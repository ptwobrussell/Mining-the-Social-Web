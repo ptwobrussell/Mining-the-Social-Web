{
 "metadata": {
  "name": "Chapter1"
 },
 "nbformat": 3,
 "nbformat_minor": 0,
 "worksheets": [
  {
   "cells": [
    {
     "cell_type": "markdown",
     "metadata": {},
     "source": [
      "#Mining the Social Web, 1st Edition - Hacking on Twitter Data (Chapter 1)\n",
      "\n",
      "If you only have 10 seconds...\n",
      "\n",
      "Twitter's new API will prevent you from running much of the code from _Mining the Social Web_, and this IPython Notebook shows you how to roll with the changes and adapt as painlessly as possible until an updated printing is available. In particular, it shows you how to authenticate before executing any API requests and demonstrates how to use the new search API.\n",
      "\n",
      "If you have a couple of minutes...\n",
      "\n",
      "Twitter is officially retiring v1.0 of their API as of March 2013 with v1.1 of the API being the new status quo. There are a few fundamental differences that social web miners that should consider (see Twitter's blog at https://dev.twitter.com/blog/changes-coming-to-twitter-api and https://dev.twitter.com/docs/api/1.1/overview) with the two changes that are most likely to affect an existing workflow being that authentication is now mandatory for *all* requests, rate-limiting being on a per resource basis (as opposed to an overall rate limit based on a fixed number of requests per unit time), various platform objects changing (for the better), and search semantics changing to a \"pageless\" approach. All in all, the v1.1 API looks much cleaner and more consistent, and it should be a good thing longer-term although it may cause interim pains for folks migrating to it.\n",
      "\n",
      "The latest printing of Mining the Social Web (2012-02-22, Third release) reflects v1.0 of the API, and this document is intended to provide readers with updated information and examples that specifically related to Twitter requests from Chapter 1 of the book until a new printing provides updates.\n",
      "\n",
      "I've tried to add some filler in between the examples below so that they flow and are easy to follow along; however, they'll make a lot more sense to you if you are following along with the text. The great news is that you can download the sample chapter that corresponds to this IPython Notebook at http://shop.oreilly.com/product/0636920010203.do free of charge!\n",
      "\n",
      "IPython Notebooks are also available for Chapters 4 and 5. As a reader of my book, I want you to know that I'm committed to helping you in any way that I can, so please reach out on Facebook at https://www.facebook.com/MiningTheSocialWeb or on Twitter at http://twitter.com/SocialWebMining if you have any questions or concerns in the meanwhile. I'd also love your feedback on whether or not you think that IPython Notebook is a good tool for tinkering with the source code for the book, because I'm strongly considering it as a supplement for each chapter.\n",
      "\n",
      "Regards - Matthew A. Russell"
     ]
    },
    {
     "cell_type": "markdown",
     "metadata": {},
     "source": [
      "# Examples Adapted From The Book\n",
      "\n",
      "Twitter implements OAuth 1.0A as its standard authentication mechanism, and in order to use it to make requests to Twitter's API, you'll need to go to https://dev.twitter.com/apps and create a sample application. There are four primary identifiers you'll need to note for an OAuth 1.0A workflow: consumer key, consumer secret, access token, and access token secret. Note that you will need an ordinary Twitter account in order to login, create an app, and get these credentials.\n",
      "\n",
      "<img src=\"http://nbviewer.ipython.org/urls/raw.github.com/ptwobrussell/Mining-the-Social-Web/master/ipython_notebooks/files/images/Twitter-AppCredentials.png\" width=\"600px\">"
     ]
    },
    {
     "cell_type": "markdown",
     "metadata": {},
     "source": [
      "The examples in this chapter take advantage of the excellent `twitter` package (See https://github.com/sixohsix/twitter), which you can install in a terminal with `easy_install` or `pip` as follows:"
     ]
    },
    {
     "cell_type": "markdown",
     "metadata": {},
     "source": [
      "```$ easy_install twitter\n",
      "$ pip install twitter```"
     ]
    },
    {
     "cell_type": "markdown",
     "metadata": {},
     "source": [
      "Once installed, you should be able to open up a Python interpreter (or better yet, your IPython interpreter) and get rolling. See http://ipython.org/ for more information on IPython if you're not already using it or viewing this file in IPython Notebook."
     ]
    },
    {
     "cell_type": "code",
     "collapsed": false,
     "input": [
      "import twitter\n",
      "\n",
      "# Go to http://twitter.com/apps/new to create an app and get these items\n",
      "# See https://dev.twitter.com/docs/auth/oauth for more information on Twitter's OAuth implementation\n",
      "\n",
      "CONSUMER_KEY = ''\n",
      "CONSUMER_SECRET = ''\n",
      "OAUTH_TOKEN = ''\n",
      "OAUTH_TOKEN_SECRET = ''\n",
      "\n",
      "auth = twitter.oauth.OAuth(OAUTH_TOKEN, OAUTH_TOKEN_SECRET,\n",
      "                           CONSUMER_KEY, CONSUMER_SECRET)\n",
      "\n",
      "twitter_api = twitter.Twitter(domain='api.twitter.com', \n",
      "                              api_version='1.1',\n",
      "                              auth=auth\n",
      "                             )"
     ],
     "language": "python",
     "metadata": {},
     "outputs": [],
     "prompt_number": 1
    },
    {
     "cell_type": "markdown",
     "metadata": {},
     "source": [
      "**Example 1-3. Retrieving Twitter trends**"
     ]
    },
    {
     "cell_type": "code",
     "collapsed": false,
     "input": [
      "# With an authenticated twitter_api in existence, you can now use it to query Twitter resources as usual.\n",
      "# However, the trends resource is cleaned up a bit in v1.1, so requests are a bit simpler than in the latest\n",
      "# printing. See https://dev.twitter.com/docs/api/1.1/get/trends/place\n",
      "\n",
      "# The Yahoo! Where On Earth ID for the entire world is 1\n",
      "WORLD_WOE_ID = 1 \n",
      "\n",
      "# Prefix id with the underscore for query string parameterization.\n",
      "# Without the underscore, it's appended to the URL itself\n",
      "world_trends = twitter_api.trends.place(_id=WORLD_WOE_ID)\n",
      "print world_trends"
     ],
     "language": "python",
     "metadata": {},
     "outputs": [
      {
       "output_type": "stream",
       "stream": "stdout",
       "text": [
        "[{u'created_at': u'2013-04-18T06:00:25Z', u'trends': [{u'url': u'http://twitter.com/search?q=%23sometimesiwishthat', u'query': u'%23sometimesiwishthat', u'name': u'#sometimesiwishthat', u'promoted_content': None, u'events': None}, {u'url': u'http://twitter.com/search?q=%23MiPreguntaEs', u'query': u'%23MiPreguntaEs', u'name': u'#MiPreguntaEs', u'promoted_content': None, u'events': None}, {u'url': u'http://twitter.com/search?q=%23WestTX', u'query': u'%23WestTX', u'name': u'#WestTX', u'promoted_content': None, u'events': None}, {u'url': u'http://twitter.com/search?q=%23MentionSomeoneWhoHasAPrettyFace', u'query': u'%23MentionSomeoneWhoHasAPrettyFace', u'name': u'#MentionSomeoneWhoHasAPrettyFace', u'promoted_content': None, u'events': None}, {u'url': u'http://twitter.com/search?q=%23CosasRid%C3%ADculas', u'query': u'%23CosasRid%C3%ADculas', u'name': u'#CosasRid\\xedculas', u'promoted_content': None, u'events': None}, {u'url': u'http://twitter.com/search?q=Texas', u'query': u'Texas', u'name': u'Texas', u'promoted_content': None, u'events': None}, {u'url': u'http://twitter.com/search?q=%22Pervez+Musharraf%22', u'query': u'%22Pervez+Musharraf%22', u'name': u'Pervez Musharraf', u'promoted_content': None, u'events': None}, {u'url': u'http://twitter.com/search?q=OKC', u'query': u'OKC', u'name': u'OKC', u'promoted_content': None, u'events': None}, {u'url': u'http://twitter.com/search?q=Spurs', u'query': u'Spurs', u'name': u'Spurs', u'promoted_content': None, u'events': None}, {u'url': u'http://twitter.com/search?q=Kobe', u'query': u'Kobe', u'name': u'Kobe', u'promoted_content': None, u'events': None}], u'as_of': u'2013-04-18T06:05:03Z', u'locations': [{u'woeid': 1, u'name': u'Worldwide'}]}]\n"
       ]
      }
     ],
     "prompt_number": 2
    },
    {
     "cell_type": "markdown",
     "metadata": {},
     "source": [
      "IPython Notebook didn't display the output because the result of the API call was captured as a variable.  Here's how you could print a readable version of the response."
     ]
    },
    {
     "cell_type": "code",
     "collapsed": false,
     "input": [
      "import json\n",
      "print json.dumps(world_trends, indent=1)"
     ],
     "language": "python",
     "metadata": {},
     "outputs": [
      {
       "output_type": "stream",
       "stream": "stdout",
       "text": [
        "[\n",
        " {\n",
        "  \"created_at\": \"2013-04-18T06:00:25Z\", \n",
        "  \"trends\": [\n",
        "   {\n",
        "    \"url\": \"http://twitter.com/search?q=%23sometimesiwishthat\", \n",
        "    \"query\": \"%23sometimesiwishthat\", \n",
        "    \"name\": \"#sometimesiwishthat\", \n",
        "    \"promoted_content\": null, \n",
        "    \"events\": null\n",
        "   }, \n",
        "   {\n",
        "    \"url\": \"http://twitter.com/search?q=%23MiPreguntaEs\", \n",
        "    \"query\": \"%23MiPreguntaEs\", \n",
        "    \"name\": \"#MiPreguntaEs\", \n",
        "    \"promoted_content\": null, \n",
        "    \"events\": null\n",
        "   }, \n",
        "   {\n",
        "    \"url\": \"http://twitter.com/search?q=%23WestTX\", \n",
        "    \"query\": \"%23WestTX\", \n",
        "    \"name\": \"#WestTX\", \n",
        "    \"promoted_content\": null, \n",
        "    \"events\": null\n",
        "   }, \n",
        "   {\n",
        "    \"url\": \"http://twitter.com/search?q=%23MentionSomeoneWhoHasAPrettyFace\", \n",
        "    \"query\": \"%23MentionSomeoneWhoHasAPrettyFace\", \n",
        "    \"name\": \"#MentionSomeoneWhoHasAPrettyFace\", \n",
        "    \"promoted_content\": null, \n",
        "    \"events\": null\n",
        "   }, \n",
        "   {\n",
        "    \"url\": \"http://twitter.com/search?q=%23CosasRid%C3%ADculas\", \n",
        "    \"query\": \"%23CosasRid%C3%ADculas\", \n",
        "    \"name\": \"#CosasRid\\u00edculas\", \n",
        "    \"promoted_content\": null, \n",
        "    \"events\": null\n",
        "   }, \n",
        "   {\n",
        "    \"url\": \"http://twitter.com/search?q=Texas\", \n",
        "    \"query\": \"Texas\", \n",
        "    \"name\": \"Texas\", \n",
        "    \"promoted_content\": null, \n",
        "    \"events\": null\n",
        "   }, \n",
        "   {\n",
        "    \"url\": \"http://twitter.com/search?q=%22Pervez+Musharraf%22\", \n",
        "    \"query\": \"%22Pervez+Musharraf%22\", \n",
        "    \"name\": \"Pervez Musharraf\", \n",
        "    \"promoted_content\": null, \n",
        "    \"events\": null\n",
        "   }, \n",
        "   {\n",
        "    \"url\": \"http://twitter.com/search?q=OKC\", \n",
        "    \"query\": \"OKC\", \n",
        "    \"name\": \"OKC\", \n",
        "    \"promoted_content\": null, \n",
        "    \"events\": null\n",
        "   }, \n",
        "   {\n",
        "    \"url\": \"http://twitter.com/search?q=Spurs\", \n",
        "    \"query\": \"Spurs\", \n",
        "    \"name\": \"Spurs\", \n",
        "    \"promoted_content\": null, \n",
        "    \"events\": null\n",
        "   }, \n",
        "   {\n",
        "    \"url\": \"http://twitter.com/search?q=Kobe\", \n",
        "    \"query\": \"Kobe\", \n",
        "    \"name\": \"Kobe\", \n",
        "    \"promoted_content\": null, \n",
        "    \"events\": null\n",
        "   }\n",
        "  ], \n",
        "  \"as_of\": \"2013-04-18T06:05:03Z\", \n",
        "  \"locations\": [\n",
        "   {\n",
        "    \"woeid\": 1, \n",
        "    \"name\": \"Worldwide\"\n",
        "   }\n",
        "  ]\n",
        " }\n",
        "]\n"
       ]
      }
     ],
     "prompt_number": 3
    },
    {
     "cell_type": "markdown",
     "metadata": {},
     "source": [
      "Now that you're authenticated and understand a bit more about making requests with Twitter's new API, let's look at some examples that involve search requests, which are a bit different with v1.1 of the API."
     ]
    },
    {
     "cell_type": "markdown",
     "metadata": {},
     "source": [
      "**Example 1-4. Paging through Twitter search results**"
     ]
    },
    {
     "cell_type": "code",
     "collapsed": false,
     "input": [
      "# Like all other APIs, search requests now require authentication and have a slightly different request and\n",
      "# response format. See https://dev.twitter.com/docs/api/1.1/get/search/tweets\n",
      "\n",
      "q = \"SNL\"\n",
      "count = 100\n",
      "\n",
      "search_results = twitter_api.search.tweets(q=q, count=count)\n",
      "statuses = search_results['statuses']\n",
      "\n",
      "# v1.1 of Twitter's API provides a value in the response for the next batch of results that needs to be parsed out\n",
      "# and passed back in as keyword args if you want to retrieve more than one page. It appears in the 'search_metadata'\n",
      "# field of the response object and has the following form:'?max_id=313519052523986943&q=NCAA&include_entities=1'\n",
      "# The tweets themselves are encoded in the 'statuses' field of the response\n",
      "\n",
      "\n",
      "# Here's how you would grab five more batches of results and collect the statuses as a list\n",
      "for _ in range(5): \n",
      "    next_results = search_results['search_metadata']['next_results']\n",
      "    kwargs = dict([ kv.split('=') for kv in next_results[1:].split(\"&\") ]) # Create a dictionary from the query string params\n",
      "    search_results = twitter_api.search.tweets(**kwargs)\n",
      "    statuses += search_results['statuses']"
     ],
     "language": "python",
     "metadata": {},
     "outputs": [],
     "prompt_number": 4
    },
    {
     "cell_type": "markdown",
     "metadata": {},
     "source": [
      "Just like before, here's how you could print out the results of the statuses, though beware that there are many of them. (Note that ipython pretty prints Python dictionary objects automatically in your terminal-based session.)"
     ]
    },
    {
     "cell_type": "code",
     "collapsed": false,
     "input": [
      "import json\n",
      "print json.dumps(statuses[0:2], indent=1) # Only print a couple of tweets here in IPython Notebook"
     ],
     "language": "python",
     "metadata": {},
     "outputs": [
      {
       "output_type": "stream",
       "stream": "stdout",
       "text": [
        "[\n",
        " {\n",
        "  \"contributors\": null, \n",
        "  \"truncated\": false, \n",
        "  \"text\": \"Daft Punk Pharrell \\\"Get Lucky\\\" SNL Ad: http://t.co/w8tzDd4s64 via @youtube\", \n",
        "  \"in_reply_to_status_id\": null, \n",
        "  \"id\": 324765383779299328, \n",
        "  \"favorite_count\": 0, \n",
        "  \"source\": \"<a href=\\\"http://twitter.com/tweetbutton\\\" rel=\\\"nofollow\\\">Tweet Button</a>\", \n",
        "  \"retweeted\": false, \n",
        "  \"coordinates\": null, \n",
        "  \"entities\": {\n",
        "   \"user_mentions\": [\n",
        "    {\n",
        "     \"id\": 10228272, \n",
        "     \"indices\": [\n",
        "      66, \n",
        "      74\n",
        "     ], \n",
        "     \"id_str\": \"10228272\", \n",
        "     \"screen_name\": \"YouTube\", \n",
        "     \"name\": \"YouTube\"\n",
        "    }\n",
        "   ], \n",
        "   \"hashtags\": [], \n",
        "   \"urls\": [\n",
        "    {\n",
        "     \"url\": \"http://t.co/w8tzDd4s64\", \n",
        "     \"indices\": [\n",
        "      39, \n",
        "      61\n",
        "     ], \n",
        "     \"expanded_url\": \"http://youtu.be/JMJwcOiBoZE\", \n",
        "     \"display_url\": \"youtu.be/JMJwcOiBoZE\"\n",
        "    }\n",
        "   ]\n",
        "  }, \n",
        "  \"in_reply_to_screen_name\": null, \n",
        "  \"in_reply_to_user_id\": null, \n",
        "  \"retweet_count\": 0, \n",
        "  \"id_str\": \"324765383779299328\", \n",
        "  \"favorited\": false, \n",
        "  \"user\": {\n",
        "   \"follow_request_sent\": null, \n",
        "   \"profile_use_background_image\": true, \n",
        "   \"default_profile_image\": false, \n",
        "   \"id\": 247112705, \n",
        "   \"verified\": false, \n",
        "   \"profile_text_color\": \"BABABA\", \n",
        "   \"profile_image_url_https\": \"https://si0.twimg.com/profile_images/3486656710/014e657cba09cee8400dcc353a332630_normal.jpeg\", \n",
        "   \"profile_sidebar_fill_color\": \"BABABA\", \n",
        "   \"entities\": {\n",
        "    \"url\": {\n",
        "     \"urls\": [\n",
        "      {\n",
        "       \"url\": \"http://www.youtube.com/user/AlbrtoEntertainment?feature=mhee\", \n",
        "       \"indices\": [\n",
        "        0, \n",
        "        60\n",
        "       ], \n",
        "       \"expanded_url\": null\n",
        "      }\n",
        "     ]\n",
        "    }, \n",
        "    \"description\": {\n",
        "     \"urls\": [\n",
        "      {\n",
        "       \"url\": \"http://t.co/3dfi3KyA\", \n",
        "       \"indices\": [\n",
        "        119, \n",
        "        139\n",
        "       ], \n",
        "       \"expanded_url\": \"http://www.facebook.com/pages/AlbertoEntertainment/129835393733330\", \n",
        "       \"display_url\": \"facebook.com/pages/AlbertoE\\u2026\"\n",
        "      }\n",
        "     ]\n",
        "    }\n",
        "   }, \n",
        "   \"followers_count\": 321, \n",
        "   \"profile_sidebar_border_color\": \"6B6B6B\", \n",
        "   \"id_str\": \"247112705\", \n",
        "   \"profile_background_color\": \"000000\", \n",
        "   \"listed_count\": 2, \n",
        "   \"profile_background_image_url_https\": \"https://si0.twimg.com/profile_background_images/201180770/Twitter.jpg\", \n",
        "   \"utc_offset\": -28800, \n",
        "   \"statuses_count\": 8899, \n",
        "   \"description\": \"Professional video editor for AlbrtoentEntertainment, BallislifeEnt, and The Professor from AND1/Ball up CHECK ME OUT\\r\\nhttp://t.co/3dfi3KyA\", \n",
        "   \"friends_count\": 155, \n",
        "   \"location\": \"San Diego California\", \n",
        "   \"profile_link_color\": \"BABABA\", \n",
        "   \"profile_image_url\": \"http://a0.twimg.com/profile_images/3486656710/014e657cba09cee8400dcc353a332630_normal.jpeg\", \n",
        "   \"following\": null, \n",
        "   \"geo_enabled\": true, \n",
        "   \"profile_banner_url\": \"https://si0.twimg.com/profile_banners/247112705/1365295843\", \n",
        "   \"profile_background_image_url\": \"http://a0.twimg.com/profile_background_images/201180770/Twitter.jpg\", \n",
        "   \"screen_name\": \"AlbrtoEnt\", \n",
        "   \"lang\": \"en\", \n",
        "   \"profile_background_tile\": false, \n",
        "   \"favourites_count\": 10, \n",
        "   \"name\": \"AlbertoEntertainment\", \n",
        "   \"notifications\": null, \n",
        "   \"url\": \"http://www.youtube.com/user/AlbrtoEntertainment?feature=mhee\", \n",
        "   \"created_at\": \"Fri Feb 04 03:23:02 +0000 2011\", \n",
        "   \"contributors_enabled\": false, \n",
        "   \"time_zone\": \"Pacific Time (US & Canada)\", \n",
        "   \"protected\": false, \n",
        "   \"default_profile\": false, \n",
        "   \"is_translator\": false\n",
        "  }, \n",
        "  \"geo\": null, \n",
        "  \"in_reply_to_user_id_str\": null, \n",
        "  \"possibly_sensitive\": false, \n",
        "  \"lang\": \"en\", \n",
        "  \"created_at\": \"Thu Apr 18 06:04:35 +0000 2013\", \n",
        "  \"in_reply_to_status_id_str\": null, \n",
        "  \"place\": null, \n",
        "  \"metadata\": {\n",
        "   \"iso_language_code\": \"en\", \n",
        "   \"result_type\": \"recent\"\n",
        "  }\n",
        " }, \n",
        " {\n",
        "  \"contributors\": null, \n",
        "  \"truncated\": false, \n",
        "  \"text\": \"Where is this from?? RT\\u201c@puckjane: \\ubbf8\\uc81c \\uc55e\\uc7a1\\uc774 \\ubc15\\uc7ac\\ubc94 \\ub3d9\\ubb34 \\ubd81\\uc870\\uc120SNL\\ubc34\\ub4dc\\ub97c \\uc870\\uc2ec \\ud558\\ub77c\\uc6b0! \\uc774\\ubc88\\uc8fc \\uc544\\uc8fc \\uac1c\\ubc15\\uc0b4\\uc744 \\ub0b4\\uc8fc\\uac13\\uc368! http://t.co/cl8Y6Kgvpt\\u201d\", \n",
        "  \"in_reply_to_status_id\": 324741268355837953, \n",
        "  \"id\": 324765266200367104, \n",
        "  \"favorite_count\": 0, \n",
        "  \"source\": \"<a href=\\\"http://twitter.com/download/iphone\\\" rel=\\\"nofollow\\\">Twitter for iPhone</a>\", \n",
        "  \"retweeted\": false, \n",
        "  \"coordinates\": null, \n",
        "  \"entities\": {\n",
        "   \"user_mentions\": [\n",
        "    {\n",
        "     \"id\": 129722206, \n",
        "     \"indices\": [\n",
        "      24, \n",
        "      33\n",
        "     ], \n",
        "     \"id_str\": \"129722206\", \n",
        "     \"screen_name\": \"puckjane\", \n",
        "     \"name\": \"Jane_Yang\"\n",
        "    }\n",
        "   ], \n",
        "   \"media\": [\n",
        "    {\n",
        "     \"source_status_id_str\": \"324741268355837953\", \n",
        "     \"expanded_url\": \"http://twitter.com/puckjane/status/324741268355837953/photo/1\", \n",
        "     \"display_url\": \"pic.twitter.com/cl8Y6Kgvpt\", \n",
        "     \"url\": \"http://t.co/cl8Y6Kgvpt\", \n",
        "     \"media_url_https\": \"https://pbs.twimg.com/media/BIG2dojCcAI342V.jpg\", \n",
        "     \"source_status_id\": 324741268355837953, \n",
        "     \"id_str\": \"324741268364226562\", \n",
        "     \"sizes\": {\n",
        "      \"small\": {\n",
        "       \"h\": 455, \n",
        "       \"resize\": \"fit\", \n",
        "       \"w\": 340\n",
        "      }, \n",
        "      \"large\": {\n",
        "       \"h\": 1024, \n",
        "       \"resize\": \"fit\", \n",
        "       \"w\": 765\n",
        "      }, \n",
        "      \"medium\": {\n",
        "       \"h\": 803, \n",
        "       \"resize\": \"fit\", \n",
        "       \"w\": 600\n",
        "      }, \n",
        "      \"thumb\": {\n",
        "       \"h\": 150, \n",
        "       \"resize\": \"crop\", \n",
        "       \"w\": 150\n",
        "      }\n",
        "     }, \n",
        "     \"indices\": [\n",
        "      85, \n",
        "      107\n",
        "     ], \n",
        "     \"type\": \"photo\", \n",
        "     \"id\": 324741268364226562, \n",
        "     \"media_url\": \"http://pbs.twimg.com/media/BIG2dojCcAI342V.jpg\"\n",
        "    }\n",
        "   ], \n",
        "   \"hashtags\": [], \n",
        "   \"urls\": []\n",
        "  }, \n",
        "  \"in_reply_to_screen_name\": \"puckjane\", \n",
        "  \"in_reply_to_user_id\": 129722206, \n",
        "  \"retweet_count\": 0, \n",
        "  \"id_str\": \"324765266200367104\", \n",
        "  \"favorited\": false, \n",
        "  \"user\": {\n",
        "   \"follow_request_sent\": null, \n",
        "   \"profile_use_background_image\": true, \n",
        "   \"default_profile_image\": false, \n",
        "   \"id\": 580855814, \n",
        "   \"verified\": false, \n",
        "   \"profile_text_color\": \"333333\", \n",
        "   \"profile_image_url_https\": \"https://si0.twimg.com/profile_images/3519989811/11a3c03d6af2a52804568a92c5096139_normal.jpeg\", \n",
        "   \"profile_sidebar_fill_color\": \"DDEEF6\", \n",
        "   \"entities\": {\n",
        "    \"description\": {\n",
        "     \"urls\": []\n",
        "    }\n",
        "   }, \n",
        "   \"followers_count\": 240, \n",
        "   \"profile_sidebar_border_color\": \"C0DEED\", \n",
        "   \"id_str\": \"580855814\", \n",
        "   \"profile_background_color\": \"C0DEED\", \n",
        "   \"listed_count\": 6, \n",
        "   \"profile_background_image_url_https\": \"https://si0.twimg.com/profile_background_images/588713875/6h7jfqrh0suj4i5ylyz0.jpeg\", \n",
        "   \"utc_offset\": 36000, \n",
        "   \"statuses_count\": 13603, \n",
        "   \"description\": \"2013 = Era of Jay Park\\nIf you work hard and be patient good things will happen to you. :) \\nI have no respect or like for those who knew Jay but ignore him now. \", \n",
        "   \"friends_count\": 256, \n",
        "   \"location\": \"\", \n",
        "   \"profile_link_color\": \"0084B4\", \n",
        "   \"profile_image_url\": \"http://a0.twimg.com/profile_images/3519989811/11a3c03d6af2a52804568a92c5096139_normal.jpeg\", \n",
        "   \"following\": null, \n",
        "   \"geo_enabled\": false, \n",
        "   \"profile_banner_url\": \"https://si0.twimg.com/profile_banners/580855814/1365946473\", \n",
        "   \"profile_background_image_url\": \"http://a0.twimg.com/profile_background_images/588713875/6h7jfqrh0suj4i5ylyz0.jpeg\", \n",
        "   \"screen_name\": \"JwalkerParker\", \n",
        "   \"lang\": \"en\", \n",
        "   \"profile_background_tile\": true, \n",
        "   \"favourites_count\": 4057, \n",
        "   \"name\": \"B :) JIS\", \n",
        "   \"notifications\": null, \n",
        "   \"url\": null, \n",
        "   \"created_at\": \"Tue May 15 12:45:00 +0000 2012\", \n",
        "   \"contributors_enabled\": false, \n",
        "   \"time_zone\": \"Sydney\", \n",
        "   \"protected\": false, \n",
        "   \"default_profile\": false, \n",
        "   \"is_translator\": false\n",
        "  }, \n",
        "  \"geo\": null, \n",
        "  \"in_reply_to_user_id_str\": \"129722206\", \n",
        "  \"possibly_sensitive\": false, \n",
        "  \"lang\": \"ko\", \n",
        "  \"created_at\": \"Thu Apr 18 06:04:07 +0000 2013\", \n",
        "  \"in_reply_to_status_id_str\": \"324741268355837953\", \n",
        "  \"place\": null, \n",
        "  \"metadata\": {\n",
        "   \"iso_language_code\": \"ko\", \n",
        "   \"result_type\": \"recent\"\n",
        "  }\n",
        " }\n",
        "]\n"
       ]
      }
     ],
     "prompt_number": 5
    },
    {
     "cell_type": "markdown",
     "metadata": {},
     "source": [
      "**Example 1-5. Pretty-printing Twitter data as JSON**"
     ]
    },
    {
     "cell_type": "markdown",
     "metadata": {},
     "source": [
      "Python's list comprehensions are very useful indeed. Here's how to use a list comprehension to extract the text from the rather bloated status objects."
     ]
    },
    {
     "cell_type": "markdown",
     "metadata": {},
     "source": [
      "**Example 1-6. A simple list comprehension in Python**"
     ]
    },
    {
     "cell_type": "code",
     "collapsed": false,
     "input": [
      "tweets = [ status['text'] for status in statuses ]\n",
      "\n",
      "print tweets[0]"
     ],
     "language": "python",
     "metadata": {},
     "outputs": [
      {
       "output_type": "stream",
       "stream": "stdout",
       "text": [
        "Daft Punk Pharrell \"Get Lucky\" SNL Ad: http://t.co/w8tzDd4s64 via @youtube\n"
       ]
      }
     ],
     "prompt_number": 6
    },
    {
     "cell_type": "markdown",
     "metadata": {},
     "source": [
      "Let's run a few basic calculations on the data and compute its lexical diversity."
     ]
    },
    {
     "cell_type": "markdown",
     "metadata": {},
     "source": [
      "**Example 1-7. Calculating lexical diversity for tweets**"
     ]
    },
    {
     "cell_type": "code",
     "collapsed": false,
     "input": [
      "words = []\n",
      "for t in tweets:\n",
      "    words += [ w for w in t.split() ]\n",
      "\n",
      "# total words\n",
      "print \"Total words = \", len(words) \n",
      "\n",
      "# unique words\n",
      "print \"Unique words = \", len(set(words)) \n",
      "\n",
      "# lexical diversity\n",
      "print \"Lexical diversity = \", 1.0*len(set(words))/len(words) \n",
      "\n",
      "# avg words per tweet\n",
      "print \"Average words per tweet = \", 1.0*sum([ len(t.split()) for t in tweets ])/len(tweets) "
     ],
     "language": "python",
     "metadata": {},
     "outputs": [
      {
       "output_type": "stream",
       "stream": "stdout",
       "text": [
        "Total words =  8226\n",
        "Unique words =  2824\n",
        "Lexical diversity =  0.343301726234\n",
        "Average words per tweet =  13.8020134228\n"
       ]
      }
     ],
     "prompt_number": 7
    },
    {
     "cell_type": "markdown",
     "metadata": {},
     "source": [
      "If you've already installed the ```nltk``` package, you can use it to compute a frequency distribution. (Although you _may_ receive a warning or error message about PyYaml during installation for certain environments, it is probably the case that you can safely ignore this error.) Recall that to install a package, you can use ```easy_install``` or ```pip``` as follows:\n",
      "\n",
      "```\n",
      "$ easy_install nltk\n",
      "$ pip install nltk\n",
      "```"
     ]
    },
    {
     "cell_type": "markdown",
     "metadata": {},
     "source": [
      "**Example 1-9. Using NLTK to perform basic frequency analysis**"
     ]
    },
    {
     "cell_type": "code",
     "collapsed": false,
     "input": [
      "import nltk\n",
      "\n",
      "freq_dist = nltk.FreqDist(words)\n",
      "print freq_dist.keys()[:50] # 50 most frequent tokens\n",
      "print freq_dist.keys()[-50:] # 50 least frequent tokens"
     ],
     "language": "python",
     "metadata": {},
     "outputs": [
      {
       "output_type": "stream",
       "stream": "stdout",
       "text": [
        "[u'RT', u'SNL', u'the', u'I', u'\\ubbf8\\uc81c', u'\\uc544\\uc8fc', u'\\ub3d9\\ubb34', u'\\ubc15\\uc7ac\\ubc94', u'\\ubd81\\uc870\\uc120SNL\\ubc34\\ub4dc\\ub97c', u'\\uc55e\\uc7a1\\uc774', u'\\uc774\\ubc88\\uc8fc', u'\\uc870\\uc2ec', u'\\ud558\\ub77c\\uc6b0!', u'\\uac1c\\ubc15\\uc0b4\\uc744', u'\\ub0b4\\uc8fc\\uac13\\uc368!', u'to', u'@puckjane:', u'-', u'http://t.co/eRy5Yl2xbc', u'on', u'of', u'a', u'and', u'is', u'for', u'...', u'in', u'my', u'via', u'you', u'was', u'snl', u'host', u'Daft', u'Punk', u'so', u'Pharrell', u'all', u'episode', u'May', u'Shinhwa', u'just', u'this', u'with', u'\\u2018SNL', u'4th', u'Korea\\u2019', u'like', u'u', u'@puckjane']\n",
        "[u'\\uc774\\ubc88\\ub2ec', u'\\uc774\\uc0c1\\ud6c8', u'\\uc774\\uc81c', u'\\uc77c\\uc5b4\\ub0ac\\ub2c8', u'\\uc787\\uac13\\uc368!\"@puckjane:', u'\\uc788\\uc2b5\\ub2c8\\ub2e4.', u'\\uc788\\uc5b4\\uc11c', u'\\uc798', u'\\uc7a1\\uc9c0', u'\\uc800\\ub294', u'\\uc804\\ub098\\uc6c3\\uacc0\\u314b\\u314b\\u314b\\u314b\\u314b\\u314b\\u314b\\u314b(\\ub204\\uc6cc\\uc11c', u'\\uc81c\\ubaab\\uae4c\\uc9c0', u'\\uc81c\\uc8fc', u'\\uc81c\\uc8fc\\ub3c4', u'\\uc885\\uac13\\ub098...', u'\\uc88b\\uaca0\\ub124\\uc694', u'\\uc88b\\uaca0\\ub2f9\\u2665', u'\\uc88b\\uc544', u'\\uc8fc\\uc168\\ub2e4!!', u'\\uc8fc\\uc2e0\\ub2e4\\uace0^^', u'\\uc9c0\\uae08', u'\\uc9c0\\uc544', u'\\uc9f9', u'\\ucc98\\uc74c\\uc774\\ub124\\uc694..\\uc81c\\uac00\\uc88b\\uc544\\ud558\\ub294\\uac70\\ubcf4\\ub7ec...20\\uc77c\\ub3c4\\ubabb\\uac00\\uace0', u'\\uce5c\\uad6c\\uac00', u'\\uce90\\uc2a4\\ud305\\uc774', u'\\ucee4\\uba3c.\\uadf8\\ub77c\\uc6b4\\ub4dc', u'\\uceec\\ud22c\\ud3b8!!', u'\\ud130\\uc9c0\\ub124', u'\\ud2b8\\uce5c\\ub2d8\\ub4e4', u'\\ud328\\ub7ec\\ub514', u'\\ud32c\\uc774\\ub77c\\uace0~\\ucd9c\\uc5f0\\ud55c', u'\\ud3ec\\uae30\\ud588\\uc5b4\\uc694', u'\\ud3ec\\uc2a4\\ud130\\uc640', u'\\ud558\\ub2c8', u'\\ud558\\ub358', u'\\ud558\\uc2ed\\ub2c8\\ub2e4.', u'\\ud55c\\ub2e4\\ub294...\\u314e\\u314e', u'\\ud654\\ub098\\uac00\\uc9c0\\uace0', u'\\ud751', u'\\ud765', u'\\U0001f44c', u'\\U0001f44d', u'\\U0001f44e', u'\\U0001f606', u'\\U0001f60a', u'\\U0001f618', u'\\U0001f62d', u'\\U0001f64c\\U0001f64c\\U0001f64c', u'\\U0001f64f\\U0001f64f']\n"
       ]
      }
     ],
     "prompt_number": 8
    },
    {
     "cell_type": "markdown",
     "metadata": {},
     "source": [
      "In case you're running Python 2.7, note that you can use the new ```collections.Counter``` class to effectively do the same thing."
     ]
    },
    {
     "cell_type": "code",
     "collapsed": false,
     "input": [
      "from collections import Counter\n",
      "\n",
      "counter = Counter(words)\n",
      "print counter.most_common(50)\n",
      "print counter.most_common()[-50:] # doesn't have a least_common method, so get them all and slice"
     ],
     "language": "python",
     "metadata": {},
     "outputs": [
      {
       "output_type": "stream",
       "stream": "stdout",
       "text": [
        "[(u'RT', 241), (u'SNL', 193), (u'the', 118), (u'I', 103), (u'\\uc544\\uc8fc', 102), (u'\\ubbf8\\uc81c', 102), (u'\\uc55e\\uc7a1\\uc774', 100), (u'\\ubc15\\uc7ac\\ubc94', 100), (u'\\ub3d9\\ubb34', 100), (u'\\ud558\\ub77c\\uc6b0!', 100), (u'\\uc774\\ubc88\\uc8fc', 100), (u'\\ubd81\\uc870\\uc120SNL\\ubc34\\ub4dc\\ub97c', 100), (u'\\uc870\\uc2ec', 100), (u'\\uac1c\\ubc15\\uc0b4\\uc744', 98), (u'\\ub0b4\\uc8fc\\uac13\\uc368!', 98), (u'to', 83), (u'@puckjane:', 81), (u'-', 78), (u'on', 72), (u'http://t.co/eRy5Yl2xbc', 72), (u'of', 67), (u'a', 61), (u'and', 51), (u'is', 48), (u'for', 47), (u'...', 40), (u'in', 39), (u'my', 38), (u'you', 36), (u'via', 36), (u'was', 35), (u'snl', 33), (u'host', 29), (u'Daft', 28), (u'so', 28), (u'Punk', 28), (u'episode', 26), (u'Pharrell', 26), (u'all', 26), (u'just', 25), (u'May', 25), (u'Shinhwa', 25), (u'with', 24), (u'\\u2018SNL', 24), (u'this', 24), (u'Korea\\u2019', 23), (u'4th', 23), (u'u', 23), (u'like', 23), (u'@puckjane', 21)]\n",
        "[(u'van', 1), (u'http://t.co/YDYeHdDFbz', 1), (u'Lawrence', 1), (u'*', 1), (u'DeMarte', 1), (u'ricin', 1), (u'\\u0e40\\u0e2d\\u0e32\\u0e14\\u0e35\\u0e14\\u0e35', 1), (u'ht', 1), (u'reminds', 1), (u'Company,', 1), (u'buo', 1), (u'Consumer', 1), (u'beeennneettttt.', 1), (u'places', 1), (u'wish', 1), (u'hosting', 1), (u'yapa', 1), (u'lve', 1), (u'record', 1), (u'@nprnews', 1), (u'problem', 1), (u'eyes,', 1), (u'trying,', 1), (u'o...', 1), (u'http://t.co/HPPMztOVWu', 1), (u'\\uba85\\ubc30\\uc6b0', 1), (u'is...', 1), (u'12-TIJ,', 1), (u'stylist:', 1), (u'mejor', 1), (u'\\uc2e0\\uc740?', 1), (u\"Frajo's\", 1), (u'Never', 1), (u'sick', 1), (u'http://t.co/imKxolojNn\"', 1), (u'Sleep', 1), (u'Kutcher,', 1), (u'stay', 1), (u'http://t.co/Ny4maenC3I', 1), (u'ba', 1), (u'\\ud130\\uc9c0\\ub124', 1), (u'Armisen', 1), (u'friends', 1), (u'Stewart', 1), (u'draft.', 1), (u'Monteur:', 1), (u'Friday,', 1), (u'11-QRO,', 1), (u'(Wouter', 1), (u'http://t.co/Wj6lrGlDiF', 1)]\n"
       ]
      }
     ],
     "prompt_number": 9
    },
    {
     "cell_type": "markdown",
     "metadata": {},
     "source": [
      "Although there are some additional ways to find retweets based on Twitter's evolved API (see https://dev.twitter.com/docs/platform-objects/tweets for some ideas), one way that operates on the text of a tweet itself is in parsing out features of the text that provide clues that the status is a retweet. Regular expressions are a good approach for this problem."
     ]
    },
    {
     "cell_type": "markdown",
     "metadata": {},
     "source": [
      "***Example 1-10. Using regular expressions to find retweets***"
     ]
    },
    {
     "cell_type": "code",
     "collapsed": false,
     "input": [
      "import re\n",
      "rt_patterns = re.compile(r\"(RT|via)((?:\\b\\W*@\\w+)+)\", re.IGNORECASE)\n",
      "example_tweets = [\"RT @SocialWebMining Justin Bieber is on SNL 2nite. w00t?!?\", \n",
      "                  \"Justin Bieber is on SNL 2nite. w00t?!? (via @SocialWebMining)\"]\n",
      "for t in example_tweets:\n",
      "    print rt_patterns.findall(t)"
     ],
     "language": "python",
     "metadata": {},
     "outputs": [
      {
       "output_type": "stream",
       "stream": "stdout",
       "text": [
        "[('RT', ' @SocialWebMining')]\n",
        "[('via', ' @SocialWebMining')]\n"
       ]
      }
     ],
     "prompt_number": 10
    },
    {
     "cell_type": "markdown",
     "metadata": {},
     "source": [
      "The possibilities with what you could do with Twitter data is endless. Here's some sample code that gets you started in building a graph of who retweeted whom that you could use as a starting point for further exploration."
     ]
    },
    {
     "cell_type": "markdown",
     "metadata": {},
     "source": [
      "***Example 1-11. Building and analyzing a graph describing who retweeted whom***"
     ]
    },
    {
     "cell_type": "code",
     "collapsed": false,
     "input": [
      "import networkx as nx\n",
      "import re\n",
      "g = nx.DiGraph()\n",
      "\n",
      "def get_rt_sources(tweet):\n",
      "    rt_patterns = re.compile(r'(RT|via)((?:\\b\\W*@\\w+)+)', re.IGNORECASE)\n",
      "    return [ source.strip()\n",
      "             for tuple in rt_patterns.findall(tweet)\n",
      "                 for source in tuple\n",
      "                     if source not in (\"RT\", \"via\") ]\n",
      "\n",
      "for status in statuses:\n",
      "    rt_sources = get_rt_sources(status['text'])\n",
      "    if not rt_sources: continue\n",
      "    for rt_source in rt_sources:\n",
      "        g.add_edge(rt_source, status['user']['screen_name'], {'tweet_id' : status['id']})\n",
      "            \n",
      "print nx.info(g)\n",
      "print g.edges(data=True)[0]\n",
      "print len(nx.connected_components(g.to_undirected()))\n",
      "print sorted(nx.degree(g).values())"
     ],
     "language": "python",
     "metadata": {},
     "outputs": [
      {
       "output_type": "stream",
       "stream": "stdout",
       "text": [
        "Name: \n",
        "Type: DiGraph\n",
        "Number of nodes: 300\n",
        "Number of edges: 270\n",
        "Average in degree:   0.9000\n",
        "Average out degree:   0.9000\n",
        "(u'@VEVO', u'martymal1', {'tweet_id': 324760640516395008})\n",
        "52\n",
        "[1, 1, 1, 1, 1, 1, 1, 1, 1, 1, 1, 1, 1, 1, 1, 1, 1, 1, 1, 1, 1, 1, 1, 1, 1, 1, 1, 1, 1, 1, 1, 1, 1, 1, 1, 1, 1, 1, 1, 1, 1, 1, 1, 1, 1, 1, 1, 1, 1, 1, 1, 1, 1, 1, 1, 1, 1, 1, 1, 1, 1, 1, 1, 1, 1, 1, 1, 1, 1, 1, 1, 1, 1, 1, 1, 1, 1, 1, 1, 1, 1, 1, 1, 1, 1, 1, 1, 1, 1, 1, 1, 1, 1, 1, 1, 1, 1, 1, 1, 1, 1, 1, 1, 1, 1, 1, 1, 1, 1, 1, 1, 1, 1, 1, 1, 1, 1, 1, 1, 1, 1, 1, 1, 1, 1, 1, 1, 1, 1, 1, 1, 1, 1, 1, 1, 1, 1, 1, 1, 1, 1, 1, 1, 1, 1, 1, 1, 1, 1, 1, 1, 1, 1, 1, 1, 1, 1, 1, 1, 1, 1, 1, 1, 1, 1, 1, 1, 1, 1, 1, 1, 1, 1, 1, 1, 1, 1, 1, 1, 1, 1, 1, 1, 1, 1, 1, 1, 1, 1, 1, 1, 1, 1, 1, 1, 1, 1, 1, 1, 1, 1, 1, 1, 1, 1, 1, 1, 1, 1, 1, 1, 1, 1, 1, 1, 1, 1, 1, 1, 1, 1, 1, 1, 1, 1, 1, 1, 1, 1, 1, 1, 1, 1, 1, 1, 1, 1, 1, 1, 1, 1, 1, 1, 2, 2, 2, 2, 2, 2, 2, 2, 2, 2, 2, 2, 2, 2, 2, 2, 2, 2, 2, 2, 2, 2, 2, 2, 2, 2, 2, 2, 2, 2, 2, 2, 2, 2, 2, 2, 2, 2, 3, 3, 3, 3, 3, 3, 4, 4, 5, 6, 6, 8, 9, 10, 12, 12, 14, 19, 94]\n"
       ]
      }
     ],
     "prompt_number": 11
    },
    {
     "cell_type": "markdown",
     "metadata": {},
     "source": [
      "In the _Mining the Social Web_'s GitHub repository, there a thorough sample file that takes all of the concepts that have been presented and weaves them into a more comprehensive turn-key example and visualization. Visit https://github.com/ptwobrussell/Mining-the-Social-Web and, in particular, run the sample file located at https://github.com/ptwobrussell/Mining-the-Social-Web/blob/master/python_code/introduction__retweet_visualization.py which should automatically launch your web browser and provide you with an interactive visualization similar to the following:\n",
      "\n",
      "<img src=\"http://nbviewer.ipython.org/urls/raw.github.com/ptwobrussell/Mining-the-Social-Web/master/ipython_notebooks/files/images/Twitter-SampleGraphOutput.png\" width=\"600px\">"
     ]
    }
   ],
   "metadata": {}
  }
 ]
}